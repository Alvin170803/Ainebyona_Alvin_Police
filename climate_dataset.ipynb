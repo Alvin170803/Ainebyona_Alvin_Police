{
 "cells": [
  {
   "cell_type": "code",
   "execution_count": 1,
   "id": "fbd0f9d4",
   "metadata": {},
   "outputs": [],
   "source": [
    "import pandas as pd\n",
    "import seaborn as sns\n",
    "import matplotlib.pyplot as plt\n",
    "import numpy as np\n",
    "from datetime import datetime\n"
   ]
  },
  {
   "cell_type": "code",
   "execution_count": 2,
   "id": "f5b9625c",
   "metadata": {},
   "outputs": [],
   "source": [
    "cd=pd.read_csv('climate_action_data.csv')"
   ]
  },
  {
   "cell_type": "code",
   "execution_count": 3,
   "id": "bdbdb724",
   "metadata": {},
   "outputs": [
    {
     "data": {
      "text/html": [
       "<div>\n",
       "<style scoped>\n",
       "    .dataframe tbody tr th:only-of-type {\n",
       "        vertical-align: middle;\n",
       "    }\n",
       "\n",
       "    .dataframe tbody tr th {\n",
       "        vertical-align: top;\n",
       "    }\n",
       "\n",
       "    .dataframe thead th {\n",
       "        text-align: right;\n",
       "    }\n",
       "</style>\n",
       "<table border=\"1\" class=\"dataframe\">\n",
       "  <thead>\n",
       "    <tr style=\"text-align: right;\">\n",
       "      <th></th>\n",
       "      <th>Sensor_ID</th>\n",
       "      <th>Date</th>\n",
       "      <th>Soil_Moisture(%)</th>\n",
       "      <th>Soil_pH</th>\n",
       "      <th>Temperature(C)</th>\n",
       "      <th>Humidity(%)</th>\n",
       "      <th>Crop_Type</th>\n",
       "      <th>Fertilizer_Recommended(kg/ha)</th>\n",
       "      <th>Irrigation_Recommended(mm)</th>\n",
       "      <th>Drone_Image_ID</th>\n",
       "    </tr>\n",
       "  </thead>\n",
       "  <tbody>\n",
       "    <tr>\n",
       "      <th>0</th>\n",
       "      <td>SEN-1000</td>\n",
       "      <td>2025-01-01</td>\n",
       "      <td>36.22</td>\n",
       "      <td>6.98</td>\n",
       "      <td>21.3</td>\n",
       "      <td>50.4</td>\n",
       "      <td>Tomatoes</td>\n",
       "      <td>67.6</td>\n",
       "      <td>26.6</td>\n",
       "      <td>IMG-2000</td>\n",
       "    </tr>\n",
       "    <tr>\n",
       "      <th>1</th>\n",
       "      <td>SEN-1001</td>\n",
       "      <td>2025-01-02</td>\n",
       "      <td>76.55</td>\n",
       "      <td>5.03</td>\n",
       "      <td>23.5</td>\n",
       "      <td>34.3</td>\n",
       "      <td>Wheat</td>\n",
       "      <td>130.4</td>\n",
       "      <td>8.3</td>\n",
       "      <td>IMG-2001</td>\n",
       "    </tr>\n",
       "    <tr>\n",
       "      <th>2</th>\n",
       "      <td>SEN-1002</td>\n",
       "      <td>2025-01-03</td>\n",
       "      <td>61.24</td>\n",
       "      <td>6.52</td>\n",
       "      <td>21.9</td>\n",
       "      <td>54.6</td>\n",
       "      <td>Tomatoes</td>\n",
       "      <td>36.0</td>\n",
       "      <td>29.4</td>\n",
       "      <td>IMG-2002</td>\n",
       "    </tr>\n",
       "    <tr>\n",
       "      <th>3</th>\n",
       "      <td>SEN-1003</td>\n",
       "      <td>2025-01-04</td>\n",
       "      <td>51.91</td>\n",
       "      <td>6.62</td>\n",
       "      <td>24.0</td>\n",
       "      <td>48.7</td>\n",
       "      <td>Maize</td>\n",
       "      <td>85.8</td>\n",
       "      <td>19.6</td>\n",
       "      <td>IMG-2003</td>\n",
       "    </tr>\n",
       "    <tr>\n",
       "      <th>4</th>\n",
       "      <td>SEN-1004</td>\n",
       "      <td>2025-01-05</td>\n",
       "      <td>20.92</td>\n",
       "      <td>5.98</td>\n",
       "      <td>19.2</td>\n",
       "      <td>70.6</td>\n",
       "      <td>Wheat</td>\n",
       "      <td>75.6</td>\n",
       "      <td>29.9</td>\n",
       "      <td>IMG-2004</td>\n",
       "    </tr>\n",
       "    <tr>\n",
       "      <th>...</th>\n",
       "      <td>...</td>\n",
       "      <td>...</td>\n",
       "      <td>...</td>\n",
       "      <td>...</td>\n",
       "      <td>...</td>\n",
       "      <td>...</td>\n",
       "      <td>...</td>\n",
       "      <td>...</td>\n",
       "      <td>...</td>\n",
       "      <td>...</td>\n",
       "    </tr>\n",
       "    <tr>\n",
       "      <th>908</th>\n",
       "      <td>SEN-1090</td>\n",
       "      <td>2025-04-01</td>\n",
       "      <td>18.37</td>\n",
       "      <td>7.03</td>\n",
       "      <td>21.0</td>\n",
       "      <td>47.1</td>\n",
       "      <td>Maize</td>\n",
       "      <td>94.2</td>\n",
       "      <td>8.0</td>\n",
       "      <td>IMG-2090</td>\n",
       "    </tr>\n",
       "    <tr>\n",
       "      <th>909</th>\n",
       "      <td>SEN-1201</td>\n",
       "      <td>2025-07-21</td>\n",
       "      <td>15.89</td>\n",
       "      <td>6.4</td>\n",
       "      <td>30.5</td>\n",
       "      <td>33.3</td>\n",
       "      <td>Tomatoes</td>\n",
       "      <td>108.3</td>\n",
       "      <td>14.5</td>\n",
       "      <td>IMG-2201</td>\n",
       "    </tr>\n",
       "    <tr>\n",
       "      <th>910</th>\n",
       "      <td>SEN-1309</td>\n",
       "      <td>2025-11-06</td>\n",
       "      <td>28.96</td>\n",
       "      <td>5.04</td>\n",
       "      <td>20.5</td>\n",
       "      <td>47.6</td>\n",
       "      <td>Tomatoes</td>\n",
       "      <td>81.1</td>\n",
       "      <td>12.7</td>\n",
       "      <td>IMG-2309</td>\n",
       "    </tr>\n",
       "    <tr>\n",
       "      <th>911</th>\n",
       "      <td>SEN-1339</td>\n",
       "      <td>2025-12-06</td>\n",
       "      <td>16.85</td>\n",
       "      <td>6.57</td>\n",
       "      <td>19.3</td>\n",
       "      <td>34.5</td>\n",
       "      <td>Beans</td>\n",
       "      <td>48.5</td>\n",
       "      <td>12.7</td>\n",
       "      <td>IMG-2339</td>\n",
       "    </tr>\n",
       "    <tr>\n",
       "      <th>912</th>\n",
       "      <td>SEN-1050</td>\n",
       "      <td>2025-02-20</td>\n",
       "      <td>77.87</td>\n",
       "      <td>4.73</td>\n",
       "      <td>18.6</td>\n",
       "      <td>46.2</td>\n",
       "      <td>Beans</td>\n",
       "      <td>136.5</td>\n",
       "      <td>23.1</td>\n",
       "      <td>IMG-2050</td>\n",
       "    </tr>\n",
       "  </tbody>\n",
       "</table>\n",
       "<p>913 rows × 10 columns</p>\n",
       "</div>"
      ],
      "text/plain": [
       "    Sensor_ID        Date Soil_Moisture(%) Soil_pH Temperature(C) Humidity(%)  \\\n",
       "0    SEN-1000  2025-01-01            36.22    6.98           21.3        50.4   \n",
       "1    SEN-1001  2025-01-02            76.55    5.03           23.5        34.3   \n",
       "2    SEN-1002  2025-01-03            61.24    6.52           21.9        54.6   \n",
       "3    SEN-1003  2025-01-04            51.91    6.62           24.0        48.7   \n",
       "4    SEN-1004  2025-01-05            20.92    5.98           19.2        70.6   \n",
       "..        ...         ...              ...     ...            ...         ...   \n",
       "908  SEN-1090  2025-04-01            18.37    7.03           21.0        47.1   \n",
       "909  SEN-1201  2025-07-21            15.89     6.4           30.5        33.3   \n",
       "910  SEN-1309  2025-11-06            28.96    5.04           20.5        47.6   \n",
       "911  SEN-1339  2025-12-06            16.85    6.57           19.3        34.5   \n",
       "912  SEN-1050  2025-02-20            77.87    4.73           18.6        46.2   \n",
       "\n",
       "    Crop_Type Fertilizer_Recommended(kg/ha) Irrigation_Recommended(mm)  \\\n",
       "0    Tomatoes                          67.6                       26.6   \n",
       "1       Wheat                         130.4                        8.3   \n",
       "2    Tomatoes                          36.0                       29.4   \n",
       "3       Maize                          85.8                       19.6   \n",
       "4       Wheat                          75.6                       29.9   \n",
       "..        ...                           ...                        ...   \n",
       "908     Maize                          94.2                        8.0   \n",
       "909  Tomatoes                         108.3                       14.5   \n",
       "910  Tomatoes                          81.1                       12.7   \n",
       "911     Beans                          48.5                       12.7   \n",
       "912     Beans                         136.5                       23.1   \n",
       "\n",
       "    Drone_Image_ID  \n",
       "0         IMG-2000  \n",
       "1         IMG-2001  \n",
       "2         IMG-2002  \n",
       "3         IMG-2003  \n",
       "4         IMG-2004  \n",
       "..             ...  \n",
       "908       IMG-2090  \n",
       "909       IMG-2201  \n",
       "910       IMG-2309  \n",
       "911       IMG-2339  \n",
       "912       IMG-2050  \n",
       "\n",
       "[913 rows x 10 columns]"
      ]
     },
     "execution_count": 3,
     "metadata": {},
     "output_type": "execute_result"
    }
   ],
   "source": [
    "cd.head(913)"
   ]
  },
  {
   "cell_type": "code",
   "execution_count": 4,
   "id": "cac727f1",
   "metadata": {},
   "outputs": [
    {
     "name": "stdout",
     "output_type": "stream",
     "text": [
      "<class 'pandas.core.frame.DataFrame'>\n",
      "RangeIndex: 913 entries, 0 to 912\n",
      "Data columns (total 10 columns):\n",
      " #   Column                         Non-Null Count  Dtype \n",
      "---  ------                         --------------  ----- \n",
      " 0   Sensor_ID                      913 non-null    object\n",
      " 1   Date                           909 non-null    object\n",
      " 2   Soil_Moisture(%)               913 non-null    object\n",
      " 3   Soil_pH                        913 non-null    object\n",
      " 4   Temperature(C)                 913 non-null    object\n",
      " 5   Humidity(%)                    913 non-null    object\n",
      " 6   Crop_Type                      909 non-null    object\n",
      " 7   Fertilizer_Recommended(kg/ha)  913 non-null    object\n",
      " 8   Irrigation_Recommended(mm)     913 non-null    object\n",
      " 9   Drone_Image_ID                 913 non-null    object\n",
      "dtypes: object(10)\n",
      "memory usage: 71.5+ KB\n"
     ]
    },
    {
     "data": {
      "text/plain": [
       "Sensor_ID                        object\n",
       "Date                             object\n",
       "Soil_Moisture(%)                 object\n",
       "Soil_pH                          object\n",
       "Temperature(C)                   object\n",
       "Humidity(%)                      object\n",
       "Crop_Type                        object\n",
       "Fertilizer_Recommended(kg/ha)    object\n",
       "Irrigation_Recommended(mm)       object\n",
       "Drone_Image_ID                   object\n",
       "dtype: object"
      ]
     },
     "execution_count": 4,
     "metadata": {},
     "output_type": "execute_result"
    }
   ],
   "source": [
    "#more initial specs\n",
    "cd.info()\n",
    "cd.dtypes"
   ]
  },
  {
   "cell_type": "code",
   "execution_count": 5,
   "id": "93175db6",
   "metadata": {},
   "outputs": [
    {
     "data": {
      "text/html": [
       "<div>\n",
       "<style scoped>\n",
       "    .dataframe tbody tr th:only-of-type {\n",
       "        vertical-align: middle;\n",
       "    }\n",
       "\n",
       "    .dataframe tbody tr th {\n",
       "        vertical-align: top;\n",
       "    }\n",
       "\n",
       "    .dataframe thead th {\n",
       "        text-align: right;\n",
       "    }\n",
       "</style>\n",
       "<table border=\"1\" class=\"dataframe\">\n",
       "  <thead>\n",
       "    <tr style=\"text-align: right;\">\n",
       "      <th></th>\n",
       "      <th>Sensor_ID</th>\n",
       "      <th>Date</th>\n",
       "      <th>Soil_Moisture(%)</th>\n",
       "      <th>Soil_pH</th>\n",
       "      <th>Temperature(C)</th>\n",
       "      <th>Humidity(%)</th>\n",
       "      <th>Crop_Type</th>\n",
       "      <th>Fertilizer_Recommended(kg/ha)</th>\n",
       "      <th>Irrigation_Recommended(mm)</th>\n",
       "      <th>Drone_Image_ID</th>\n",
       "    </tr>\n",
       "  </thead>\n",
       "  <tbody>\n",
       "    <tr>\n",
       "      <th>count</th>\n",
       "      <td>913</td>\n",
       "      <td>909</td>\n",
       "      <td>913</td>\n",
       "      <td>913</td>\n",
       "      <td>913</td>\n",
       "      <td>913</td>\n",
       "      <td>909</td>\n",
       "      <td>913</td>\n",
       "      <td>913</td>\n",
       "      <td>913</td>\n",
       "    </tr>\n",
       "    <tr>\n",
       "      <th>unique</th>\n",
       "      <td>800</td>\n",
       "      <td>798</td>\n",
       "      <td>750</td>\n",
       "      <td>313</td>\n",
       "      <td>170</td>\n",
       "      <td>448</td>\n",
       "      <td>5</td>\n",
       "      <td>595</td>\n",
       "      <td>243</td>\n",
       "      <td>800</td>\n",
       "    </tr>\n",
       "    <tr>\n",
       "      <th>top</th>\n",
       "      <td>SEN-1779</td>\n",
       "      <td>2026-01-02</td>\n",
       "      <td>error</td>\n",
       "      <td>7.54</td>\n",
       "      <td>19.1</td>\n",
       "      <td>56.0</td>\n",
       "      <td>Wheat</td>\n",
       "      <td>66.9</td>\n",
       "      <td>8.0</td>\n",
       "      <td>IMG-2779</td>\n",
       "    </tr>\n",
       "    <tr>\n",
       "      <th>freq</th>\n",
       "      <td>2</td>\n",
       "      <td>2</td>\n",
       "      <td>5</td>\n",
       "      <td>11</td>\n",
       "      <td>13</td>\n",
       "      <td>8</td>\n",
       "      <td>203</td>\n",
       "      <td>8</td>\n",
       "      <td>11</td>\n",
       "      <td>2</td>\n",
       "    </tr>\n",
       "  </tbody>\n",
       "</table>\n",
       "</div>"
      ],
      "text/plain": [
       "       Sensor_ID        Date Soil_Moisture(%) Soil_pH Temperature(C)  \\\n",
       "count        913         909              913     913            913   \n",
       "unique       800         798              750     313            170   \n",
       "top     SEN-1779  2026-01-02            error    7.54           19.1   \n",
       "freq           2           2                5      11             13   \n",
       "\n",
       "       Humidity(%) Crop_Type Fertilizer_Recommended(kg/ha)  \\\n",
       "count          913       909                           913   \n",
       "unique         448         5                           595   \n",
       "top           56.0     Wheat                          66.9   \n",
       "freq             8       203                             8   \n",
       "\n",
       "       Irrigation_Recommended(mm) Drone_Image_ID  \n",
       "count                         913            913  \n",
       "unique                        243            800  \n",
       "top                           8.0       IMG-2779  \n",
       "freq                           11              2  "
      ]
     },
     "execution_count": 5,
     "metadata": {},
     "output_type": "execute_result"
    }
   ],
   "source": [
    "cd.describe()"
   ]
  },
  {
   "cell_type": "code",
   "execution_count": 6,
   "id": "7678e374",
   "metadata": {},
   "outputs": [
    {
     "data": {
      "text/plain": [
       "(913, 10)"
      ]
     },
     "execution_count": 6,
     "metadata": {},
     "output_type": "execute_result"
    }
   ],
   "source": [
    "cd.shape"
   ]
  },
  {
   "cell_type": "code",
   "execution_count": 7,
   "id": "1ccdb5ef",
   "metadata": {},
   "outputs": [
    {
     "data": {
      "text/plain": [
       "Index(['Sensor_ID', 'Date', 'Soil_Moisture(%)', 'Soil_pH', 'Temperature(C)',\n",
       "       'Humidity(%)', 'Crop_Type', 'Fertilizer_Recommended(kg/ha)',\n",
       "       'Irrigation_Recommended(mm)', 'Drone_Image_ID'],\n",
       "      dtype='object')"
      ]
     },
     "execution_count": 7,
     "metadata": {},
     "output_type": "execute_result"
    }
   ],
   "source": [
    "cd.columns"
   ]
  },
  {
   "cell_type": "code",
   "execution_count": 9,
   "id": "880b7a0b",
   "metadata": {},
   "outputs": [],
   "source": [
    "cd = cd.replace('error', float('nan'))"
   ]
  },
  {
   "cell_type": "code",
   "execution_count": 10,
   "id": "b9de04f5",
   "metadata": {},
   "outputs": [],
   "source": [
    "cd =cd.astype({'Soil_Moisture(%)':'float64','Soil_pH':'float64','Temperature(C)':'float64','Humidity(%)':'float64','Fertilizer_Recommended(kg/ha)':'float64','Irrigation_Recommended(mm)':'float64'})"
   ]
  },
  {
   "cell_type": "code",
   "execution_count": 11,
   "id": "ba7a3113",
   "metadata": {},
   "outputs": [
    {
     "data": {
      "text/plain": [
       "Sensor_ID                         object\n",
       "Date                              object\n",
       "Soil_Moisture(%)                 float64\n",
       "Soil_pH                          float64\n",
       "Temperature(C)                   float64\n",
       "Humidity(%)                      float64\n",
       "Crop_Type                         object\n",
       "Fertilizer_Recommended(kg/ha)    float64\n",
       "Irrigation_Recommended(mm)       float64\n",
       "Drone_Image_ID                    object\n",
       "dtype: object"
      ]
     },
     "execution_count": 11,
     "metadata": {},
     "output_type": "execute_result"
    }
   ],
   "source": [
    "cd.dtypes"
   ]
  },
  {
   "cell_type": "code",
   "execution_count": 12,
   "id": "385e8576",
   "metadata": {},
   "outputs": [
    {
     "data": {
      "text/html": [
       "<div>\n",
       "<style scoped>\n",
       "    .dataframe tbody tr th:only-of-type {\n",
       "        vertical-align: middle;\n",
       "    }\n",
       "\n",
       "    .dataframe tbody tr th {\n",
       "        vertical-align: top;\n",
       "    }\n",
       "\n",
       "    .dataframe thead th {\n",
       "        text-align: right;\n",
       "    }\n",
       "</style>\n",
       "<table border=\"1\" class=\"dataframe\">\n",
       "  <thead>\n",
       "    <tr style=\"text-align: right;\">\n",
       "      <th></th>\n",
       "      <th>Sensor_ID</th>\n",
       "      <th>Date</th>\n",
       "      <th>Soil_Moisture(%)</th>\n",
       "      <th>Soil_pH</th>\n",
       "      <th>Temperature(C)</th>\n",
       "      <th>Humidity(%)</th>\n",
       "      <th>Crop_Type</th>\n",
       "      <th>Fertilizer_Recommended(kg/ha)</th>\n",
       "      <th>Irrigation_Recommended(mm)</th>\n",
       "      <th>Drone_Image_ID</th>\n",
       "    </tr>\n",
       "  </thead>\n",
       "  <tbody>\n",
       "    <tr>\n",
       "      <th>0</th>\n",
       "      <td>SEN-1000</td>\n",
       "      <td>2025-01-01</td>\n",
       "      <td>36.22</td>\n",
       "      <td>6.98</td>\n",
       "      <td>21.3</td>\n",
       "      <td>50.4</td>\n",
       "      <td>Tomatoes</td>\n",
       "      <td>67.6</td>\n",
       "      <td>26.6</td>\n",
       "      <td>IMG-2000</td>\n",
       "    </tr>\n",
       "    <tr>\n",
       "      <th>1</th>\n",
       "      <td>SEN-1001</td>\n",
       "      <td>2025-01-02</td>\n",
       "      <td>76.55</td>\n",
       "      <td>5.03</td>\n",
       "      <td>23.5</td>\n",
       "      <td>34.3</td>\n",
       "      <td>Wheat</td>\n",
       "      <td>130.4</td>\n",
       "      <td>8.3</td>\n",
       "      <td>IMG-2001</td>\n",
       "    </tr>\n",
       "    <tr>\n",
       "      <th>2</th>\n",
       "      <td>SEN-1002</td>\n",
       "      <td>2025-01-03</td>\n",
       "      <td>61.24</td>\n",
       "      <td>6.52</td>\n",
       "      <td>21.9</td>\n",
       "      <td>54.6</td>\n",
       "      <td>Tomatoes</td>\n",
       "      <td>36.0</td>\n",
       "      <td>29.4</td>\n",
       "      <td>IMG-2002</td>\n",
       "    </tr>\n",
       "    <tr>\n",
       "      <th>3</th>\n",
       "      <td>SEN-1003</td>\n",
       "      <td>2025-01-04</td>\n",
       "      <td>51.91</td>\n",
       "      <td>6.62</td>\n",
       "      <td>24.0</td>\n",
       "      <td>48.7</td>\n",
       "      <td>Maize</td>\n",
       "      <td>85.8</td>\n",
       "      <td>19.6</td>\n",
       "      <td>IMG-2003</td>\n",
       "    </tr>\n",
       "    <tr>\n",
       "      <th>4</th>\n",
       "      <td>SEN-1004</td>\n",
       "      <td>2025-01-05</td>\n",
       "      <td>20.92</td>\n",
       "      <td>5.98</td>\n",
       "      <td>19.2</td>\n",
       "      <td>70.6</td>\n",
       "      <td>Wheat</td>\n",
       "      <td>75.6</td>\n",
       "      <td>29.9</td>\n",
       "      <td>IMG-2004</td>\n",
       "    </tr>\n",
       "    <tr>\n",
       "      <th>...</th>\n",
       "      <td>...</td>\n",
       "      <td>...</td>\n",
       "      <td>...</td>\n",
       "      <td>...</td>\n",
       "      <td>...</td>\n",
       "      <td>...</td>\n",
       "      <td>...</td>\n",
       "      <td>...</td>\n",
       "      <td>...</td>\n",
       "      <td>...</td>\n",
       "    </tr>\n",
       "    <tr>\n",
       "      <th>105</th>\n",
       "      <td>SEN-1105</td>\n",
       "      <td>2025-04-16</td>\n",
       "      <td>27.45</td>\n",
       "      <td>7.62</td>\n",
       "      <td>19.8</td>\n",
       "      <td>36.6</td>\n",
       "      <td>Maize</td>\n",
       "      <td>36.1</td>\n",
       "      <td>25.2</td>\n",
       "      <td>IMG-2105</td>\n",
       "    </tr>\n",
       "    <tr>\n",
       "      <th>106</th>\n",
       "      <td>SEN-1106</td>\n",
       "      <td>2025-04-17</td>\n",
       "      <td>38.73</td>\n",
       "      <td>7.36</td>\n",
       "      <td>28.9</td>\n",
       "      <td>81.2</td>\n",
       "      <td>Beans</td>\n",
       "      <td>105.2</td>\n",
       "      <td>23.4</td>\n",
       "      <td>IMG-2106</td>\n",
       "    </tr>\n",
       "    <tr>\n",
       "      <th>107</th>\n",
       "      <td>SEN-1107</td>\n",
       "      <td>2025-04-18</td>\n",
       "      <td>NaN</td>\n",
       "      <td>NaN</td>\n",
       "      <td>NaN</td>\n",
       "      <td>NaN</td>\n",
       "      <td>Tomatoes</td>\n",
       "      <td>NaN</td>\n",
       "      <td>NaN</td>\n",
       "      <td>IMG-2107</td>\n",
       "    </tr>\n",
       "    <tr>\n",
       "      <th>108</th>\n",
       "      <td>SEN-1108</td>\n",
       "      <td>2025-04-19</td>\n",
       "      <td>26.02</td>\n",
       "      <td>5.41</td>\n",
       "      <td>28.5</td>\n",
       "      <td>80.8</td>\n",
       "      <td>Beans</td>\n",
       "      <td>63.6</td>\n",
       "      <td>26.0</td>\n",
       "      <td>IMG-2108</td>\n",
       "    </tr>\n",
       "    <tr>\n",
       "      <th>109</th>\n",
       "      <td>SEN-1109</td>\n",
       "      <td>2025-04-20</td>\n",
       "      <td>15.39</td>\n",
       "      <td>5.83</td>\n",
       "      <td>29.1</td>\n",
       "      <td>83.6</td>\n",
       "      <td>Lettuce</td>\n",
       "      <td>69.8</td>\n",
       "      <td>13.5</td>\n",
       "      <td>IMG-2109</td>\n",
       "    </tr>\n",
       "  </tbody>\n",
       "</table>\n",
       "<p>110 rows × 10 columns</p>\n",
       "</div>"
      ],
      "text/plain": [
       "    Sensor_ID        Date  Soil_Moisture(%)  Soil_pH  Temperature(C)  \\\n",
       "0    SEN-1000  2025-01-01             36.22     6.98            21.3   \n",
       "1    SEN-1001  2025-01-02             76.55     5.03            23.5   \n",
       "2    SEN-1002  2025-01-03             61.24     6.52            21.9   \n",
       "3    SEN-1003  2025-01-04             51.91     6.62            24.0   \n",
       "4    SEN-1004  2025-01-05             20.92     5.98            19.2   \n",
       "..        ...         ...               ...      ...             ...   \n",
       "105  SEN-1105  2025-04-16             27.45     7.62            19.8   \n",
       "106  SEN-1106  2025-04-17             38.73     7.36            28.9   \n",
       "107  SEN-1107  2025-04-18               NaN      NaN             NaN   \n",
       "108  SEN-1108  2025-04-19             26.02     5.41            28.5   \n",
       "109  SEN-1109  2025-04-20             15.39     5.83            29.1   \n",
       "\n",
       "     Humidity(%) Crop_Type  Fertilizer_Recommended(kg/ha)  \\\n",
       "0           50.4  Tomatoes                           67.6   \n",
       "1           34.3     Wheat                          130.4   \n",
       "2           54.6  Tomatoes                           36.0   \n",
       "3           48.7     Maize                           85.8   \n",
       "4           70.6     Wheat                           75.6   \n",
       "..           ...       ...                            ...   \n",
       "105         36.6     Maize                           36.1   \n",
       "106         81.2     Beans                          105.2   \n",
       "107          NaN  Tomatoes                            NaN   \n",
       "108         80.8     Beans                           63.6   \n",
       "109         83.6   Lettuce                           69.8   \n",
       "\n",
       "     Irrigation_Recommended(mm) Drone_Image_ID  \n",
       "0                          26.6       IMG-2000  \n",
       "1                           8.3       IMG-2001  \n",
       "2                          29.4       IMG-2002  \n",
       "3                          19.6       IMG-2003  \n",
       "4                          29.9       IMG-2004  \n",
       "..                          ...            ...  \n",
       "105                        25.2       IMG-2105  \n",
       "106                        23.4       IMG-2106  \n",
       "107                         NaN       IMG-2107  \n",
       "108                        26.0       IMG-2108  \n",
       "109                        13.5       IMG-2109  \n",
       "\n",
       "[110 rows x 10 columns]"
      ]
     },
     "execution_count": 12,
     "metadata": {},
     "output_type": "execute_result"
    }
   ],
   "source": [
    "cd.head(110)"
   ]
  },
  {
   "cell_type": "code",
   "execution_count": 38,
   "id": "e3140b73",
   "metadata": {},
   "outputs": [
    {
     "data": {
      "text/html": [
       "<div>\n",
       "<style scoped>\n",
       "    .dataframe tbody tr th:only-of-type {\n",
       "        vertical-align: middle;\n",
       "    }\n",
       "\n",
       "    .dataframe tbody tr th {\n",
       "        vertical-align: top;\n",
       "    }\n",
       "\n",
       "    .dataframe thead th {\n",
       "        text-align: right;\n",
       "    }\n",
       "</style>\n",
       "<table border=\"1\" class=\"dataframe\">\n",
       "  <thead>\n",
       "    <tr style=\"text-align: right;\">\n",
       "      <th></th>\n",
       "      <th>Date</th>\n",
       "      <th>Soil_Moisture(%)</th>\n",
       "      <th>Soil_pH</th>\n",
       "      <th>Temperature(C)</th>\n",
       "      <th>Humidity(%)</th>\n",
       "      <th>Fertilizer_Recommended(kg/ha)</th>\n",
       "      <th>Irrigation_Recommended(mm)</th>\n",
       "    </tr>\n",
       "  </thead>\n",
       "  <tbody>\n",
       "    <tr>\n",
       "      <th>count</th>\n",
       "      <td>798</td>\n",
       "      <td>799.000000</td>\n",
       "      <td>799.000000</td>\n",
       "      <td>799.000000</td>\n",
       "      <td>799.000000</td>\n",
       "      <td>799.000000</td>\n",
       "      <td>799.000000</td>\n",
       "    </tr>\n",
       "    <tr>\n",
       "      <th>mean</th>\n",
       "      <td>2026-02-04 07:45:33.834586624</td>\n",
       "      <td>44.790970</td>\n",
       "      <td>6.252997</td>\n",
       "      <td>26.468836</td>\n",
       "      <td>60.107009</td>\n",
       "      <td>87.401877</td>\n",
       "      <td>17.390989</td>\n",
       "    </tr>\n",
       "    <tr>\n",
       "      <th>min</th>\n",
       "      <td>2025-01-01 00:00:00</td>\n",
       "      <td>10.350000</td>\n",
       "      <td>4.520000</td>\n",
       "      <td>18.000000</td>\n",
       "      <td>30.000000</td>\n",
       "      <td>30.000000</td>\n",
       "      <td>5.000000</td>\n",
       "    </tr>\n",
       "    <tr>\n",
       "      <th>25%</th>\n",
       "      <td>2025-07-19 06:00:00</td>\n",
       "      <td>26.955000</td>\n",
       "      <td>5.330000</td>\n",
       "      <td>22.300000</td>\n",
       "      <td>46.100000</td>\n",
       "      <td>57.850000</td>\n",
       "      <td>11.300000</td>\n",
       "    </tr>\n",
       "    <tr>\n",
       "      <th>50%</th>\n",
       "      <td>2026-02-03 12:00:00</td>\n",
       "      <td>45.220000</td>\n",
       "      <td>6.295000</td>\n",
       "      <td>26.600000</td>\n",
       "      <td>59.600000</td>\n",
       "      <td>85.900000</td>\n",
       "      <td>17.400000</td>\n",
       "    </tr>\n",
       "    <tr>\n",
       "      <th>75%</th>\n",
       "      <td>2026-08-23 18:00:00</td>\n",
       "      <td>62.615000</td>\n",
       "      <td>7.080000</td>\n",
       "      <td>30.600000</td>\n",
       "      <td>75.300000</td>\n",
       "      <td>117.650000</td>\n",
       "      <td>23.700000</td>\n",
       "    </tr>\n",
       "    <tr>\n",
       "      <th>max</th>\n",
       "      <td>2027-03-11 00:00:00</td>\n",
       "      <td>79.980000</td>\n",
       "      <td>8.000000</td>\n",
       "      <td>35.000000</td>\n",
       "      <td>89.900000</td>\n",
       "      <td>149.700000</td>\n",
       "      <td>29.900000</td>\n",
       "    </tr>\n",
       "    <tr>\n",
       "      <th>std</th>\n",
       "      <td>NaN</td>\n",
       "      <td>20.460591</td>\n",
       "      <td>1.021265</td>\n",
       "      <td>4.867592</td>\n",
       "      <td>17.404889</td>\n",
       "      <td>34.805589</td>\n",
       "      <td>7.138402</td>\n",
       "    </tr>\n",
       "  </tbody>\n",
       "</table>\n",
       "</div>"
      ],
      "text/plain": [
       "                                Date  Soil_Moisture(%)     Soil_pH  \\\n",
       "count                            798        799.000000  799.000000   \n",
       "mean   2026-02-04 07:45:33.834586624         44.790970    6.252997   \n",
       "min              2025-01-01 00:00:00         10.350000    4.520000   \n",
       "25%              2025-07-19 06:00:00         26.955000    5.330000   \n",
       "50%              2026-02-03 12:00:00         45.220000    6.295000   \n",
       "75%              2026-08-23 18:00:00         62.615000    7.080000   \n",
       "max              2027-03-11 00:00:00         79.980000    8.000000   \n",
       "std                              NaN         20.460591    1.021265   \n",
       "\n",
       "       Temperature(C)  Humidity(%)  Fertilizer_Recommended(kg/ha)  \\\n",
       "count      799.000000   799.000000                     799.000000   \n",
       "mean        26.468836    60.107009                      87.401877   \n",
       "min         18.000000    30.000000                      30.000000   \n",
       "25%         22.300000    46.100000                      57.850000   \n",
       "50%         26.600000    59.600000                      85.900000   \n",
       "75%         30.600000    75.300000                     117.650000   \n",
       "max         35.000000    89.900000                     149.700000   \n",
       "std          4.867592    17.404889                      34.805589   \n",
       "\n",
       "       Irrigation_Recommended(mm)  \n",
       "count                  799.000000  \n",
       "mean                    17.390989  \n",
       "min                      5.000000  \n",
       "25%                     11.300000  \n",
       "50%                     17.400000  \n",
       "75%                     23.700000  \n",
       "max                     29.900000  \n",
       "std                      7.138402  "
      ]
     },
     "execution_count": 38,
     "metadata": {},
     "output_type": "execute_result"
    }
   ],
   "source": [
    "cd.describe()"
   ]
  },
  {
   "cell_type": "code",
   "execution_count": 15,
   "id": "73284165",
   "metadata": {},
   "outputs": [
    {
     "name": "stdout",
     "output_type": "stream",
     "text": [
      "Missing values in each existing column\n"
     ]
    },
    {
     "data": {
      "text/plain": [
       "Sensor_ID                        0\n",
       "Date                             4\n",
       "Soil_Moisture(%)                 5\n",
       "Soil_pH                          5\n",
       "Temperature(C)                   5\n",
       "Humidity(%)                      5\n",
       "Crop_Type                        4\n",
       "Fertilizer_Recommended(kg/ha)    5\n",
       "Irrigation_Recommended(mm)       5\n",
       "Drone_Image_ID                   0\n",
       "dtype: int64"
      ]
     },
     "execution_count": 15,
     "metadata": {},
     "output_type": "execute_result"
    }
   ],
   "source": [
    "#checking for empty values\n",
    "print('Missing values in each existing column')\n",
    "cd.isnull().sum()"
   ]
  },
  {
   "cell_type": "code",
   "execution_count": 16,
   "id": "ede35e93",
   "metadata": {},
   "outputs": [],
   "source": [
    "numeric_cols =['Soil_Moisture(%)','Soil_pH','Temperature(C)','Humidity(%)','Fertilizer_Recommended(kg/ha)','Irrigation_Recommended(mm)']\n",
    "for col in numeric_cols:\n",
    "    if col in cd.columns:\n",
    "        cd[col]= pd.to_numeric(cd[col], errors='coerce')#converting to numeric,coercing errors to NaN\n",
    "        cd[col]=cd[col].fillna(cd[col].median())"
   ]
  },
  {
   "cell_type": "code",
   "execution_count": 17,
   "id": "216bca97",
   "metadata": {},
   "outputs": [],
   "source": [
    "#For categorical columns, we can fill missing values with the mode\n",
    "categorical_cols=['Crop_Type'] \n",
    "for col in categorical_cols:\n",
    "    if  col in cd.columns:\n",
    "        cd[col]=cd[col].fillna(cd[col].mode()[0]) "
   ]
  },
  {
   "cell_type": "code",
   "execution_count": 22,
   "id": "eea9e412",
   "metadata": {},
   "outputs": [
    {
     "name": "stdout",
     "output_type": "stream",
     "text": [
      "Missing values after handling:\n",
      "Sensor_ID                        0\n",
      "Date                             4\n",
      "Soil_Moisture(%)                 0\n",
      "Soil_pH                          0\n",
      "Temperature(C)                   0\n",
      "Humidity(%)                      0\n",
      "Crop_Type                        0\n",
      "Fertilizer_Recommended(kg/ha)    0\n",
      "Irrigation_Recommended(mm)       0\n",
      "Drone_Image_ID                   0\n",
      "dtype: int64\n"
     ]
    }
   ],
   "source": [
    "print('Missing values after handling:')\n",
    "print(cd.isnull().sum())"
   ]
  },
  {
   "cell_type": "code",
   "execution_count": 19,
   "id": "cdfea760",
   "metadata": {},
   "outputs": [],
   "source": [
    "# Convert 'Date' column to datetime format\n",
    "cd['Date'] = pd.to_datetime(cd['Date'], errors='coerce')"
   ]
  },
  {
   "cell_type": "code",
   "execution_count": 20,
   "id": "2f2f3cb8",
   "metadata": {},
   "outputs": [],
   "source": [
    "for col in ['Soil_Moisture(%)', 'Soil_pH', 'Temperature(C)', \n",
    "            'Humidity(%)', 'Fertilizer_Recommended(kg/ha)', \n",
    "            'Irrigation_Recommended(mm)']:\n",
    "    cd[col] = pd.to_numeric(cd[col], errors='coerce')"
   ]
  },
  {
   "cell_type": "code",
   "execution_count": null,
   "id": "a5579b98",
   "metadata": {},
   "outputs": [
    {
     "name": "stdout",
     "output_type": "stream",
     "text": [
      "Data types after conversion:\n",
      "Sensor_ID                                object\n",
      "Date                             datetime64[ns]\n",
      "Soil_Moisture(%)                        float64\n",
      "Soil_pH                                 float64\n",
      "Temperature(C)                          float64\n",
      "Humidity(%)                             float64\n",
      "Crop_Type                                object\n",
      "Fertilizer_Recommended(kg/ha)           float64\n",
      "Irrigation_Recommended(mm)              float64\n",
      "Drone_Image_ID                           object\n",
      "dtype: object\n"
     ]
    }
   ],
   "source": [
    "# Wrong Data Types\n",
    "soildetail_cols = ['Soil_Moisture(%)', 'Soil_pH', 'Temperature(C)', \n",
    "            'Humidity(%)', 'Fertilizer_Recommended(kg/ha)', \n",
    "            'Irrigation_Recommended(mm)']\n",
    "for col in soildetail_cols:\n",
    "    if col in cd.columns:\n",
    "# Remove extreme outliers (beyond 3 standard deviations)\n",
    "       mean = cd[col].mean()\n",
    "       std_dev = cd[col].std()\n",
    "       cd[col] = cd[col].apply(lambda x: x if (mean - 3 * std_dev < x < mean + 3 * std_dev) else np.nan) \n",
    "       \n",
    "       cd[col] = cd[col].fillna(cd[col].median())\n",
    "# Check data types after conversion\n",
    "print(\"Data types after conversion:\")   \n",
    "print(cd.dtypes)"
   ]
  },
  {
   "cell_type": "code",
   "execution_count": 52,
   "id": "b0d64b5b",
   "metadata": {},
   "outputs": [
    {
     "name": "stdout",
     "output_type": "stream",
     "text": [
      "num of rows after removing duplicates: 798\n"
     ]
    }
   ],
   "source": [
    "cd =cd.drop_duplicates()\n",
    "print('num of rows after removing duplicates:' ,cd.shape[0])"
   ]
  },
  {
   "cell_type": "code",
   "execution_count": 27,
   "id": "c9e383d9",
   "metadata": {},
   "outputs": [
    {
     "name": "stdout",
     "output_type": "stream",
     "text": [
      "Number of duplicates: 0\n",
      "Duplicate dates: 0\n"
     ]
    }
   ],
   "source": [
    "print(f\"Number of duplicates: {cd.duplicated().sum()}\")\n",
    "\n",
    "cd = cd.drop_duplicates(subset=['Date'], keep='first')\n",
    "print(f\"Duplicate dates: {cd['Date'].duplicated().sum()}\")"
   ]
  },
  {
   "cell_type": "code",
   "execution_count": 28,
   "id": "06f0f6e0",
   "metadata": {},
   "outputs": [
    {
     "name": "stdout",
     "output_type": "stream",
     "text": [
      "Missing values after handling:\n",
      "Sensor_ID                        0\n",
      "Date                             1\n",
      "Soil_Moisture(%)                 0\n",
      "Soil_pH                          0\n",
      "Temperature(C)                   0\n",
      "Humidity(%)                      0\n",
      "Crop_Type                        0\n",
      "Fertilizer_Recommended(kg/ha)    0\n",
      "Irrigation_Recommended(mm)       0\n",
      "Drone_Image_ID                   0\n",
      "dtype: int64\n"
     ]
    }
   ],
   "source": [
    "#checking again for missing values\n",
    "print('Missing values after handling:')\n",
    "print(cd.isnull().sum())"
   ]
  },
  {
   "cell_type": "code",
   "execution_count": 31,
   "id": "52155253",
   "metadata": {},
   "outputs": [
    {
     "name": "stdout",
     "output_type": "stream",
     "text": [
      "<class 'pandas.core.frame.DataFrame'>\n",
      "Index: 799 entries, 0 to 863\n",
      "Data columns (total 10 columns):\n",
      " #   Column                         Non-Null Count  Dtype         \n",
      "---  ------                         --------------  -----         \n",
      " 0   Sensor_ID                      799 non-null    object        \n",
      " 1   Date                           798 non-null    datetime64[ns]\n",
      " 2   Soil_Moisture(%)               799 non-null    float64       \n",
      " 3   Soil_pH                        799 non-null    float64       \n",
      " 4   Temperature(C)                 799 non-null    float64       \n",
      " 5   Humidity(%)                    799 non-null    float64       \n",
      " 6   Crop_Type                      799 non-null    object        \n",
      " 7   Fertilizer_Recommended(kg/ha)  799 non-null    float64       \n",
      " 8   Irrigation_Recommended(mm)     799 non-null    float64       \n",
      " 9   Drone_Image_ID                 799 non-null    object        \n",
      "dtypes: datetime64[ns](1), float64(6), object(3)\n",
      "memory usage: 68.7+ KB\n",
      "None\n"
     ]
    }
   ],
   "source": [
    "print(cd.info())"
   ]
  },
  {
   "cell_type": "code",
   "execution_count": 30,
   "id": "e3bd27b0",
   "metadata": {},
   "outputs": [
    {
     "data": {
      "text/plain": [
       "(799, 10)"
      ]
     },
     "execution_count": 30,
     "metadata": {},
     "output_type": "execute_result"
    }
   ],
   "source": [
    "cd.shape"
   ]
  },
  {
   "cell_type": "code",
   "execution_count": 32,
   "id": "f3cf74d0",
   "metadata": {},
   "outputs": [
    {
     "data": {
      "text/html": [
       "<div>\n",
       "<style scoped>\n",
       "    .dataframe tbody tr th:only-of-type {\n",
       "        vertical-align: middle;\n",
       "    }\n",
       "\n",
       "    .dataframe tbody tr th {\n",
       "        vertical-align: top;\n",
       "    }\n",
       "\n",
       "    .dataframe thead th {\n",
       "        text-align: right;\n",
       "    }\n",
       "</style>\n",
       "<table border=\"1\" class=\"dataframe\">\n",
       "  <thead>\n",
       "    <tr style=\"text-align: right;\">\n",
       "      <th></th>\n",
       "      <th>Sensor_ID</th>\n",
       "      <th>Date</th>\n",
       "      <th>Soil_Moisture(%)</th>\n",
       "      <th>Soil_pH</th>\n",
       "      <th>Temperature(C)</th>\n",
       "      <th>Humidity(%)</th>\n",
       "      <th>Crop_Type</th>\n",
       "      <th>Fertilizer_Recommended(kg/ha)</th>\n",
       "      <th>Irrigation_Recommended(mm)</th>\n",
       "      <th>Drone_Image_ID</th>\n",
       "    </tr>\n",
       "  </thead>\n",
       "  <tbody>\n",
       "    <tr>\n",
       "      <th>0</th>\n",
       "      <td>SEN-1000</td>\n",
       "      <td>2025-01-01</td>\n",
       "      <td>36.22</td>\n",
       "      <td>6.98</td>\n",
       "      <td>21.3</td>\n",
       "      <td>50.4</td>\n",
       "      <td>Tomatoes</td>\n",
       "      <td>67.6</td>\n",
       "      <td>26.6</td>\n",
       "      <td>IMG-2000</td>\n",
       "    </tr>\n",
       "    <tr>\n",
       "      <th>1</th>\n",
       "      <td>SEN-1001</td>\n",
       "      <td>2025-01-02</td>\n",
       "      <td>76.55</td>\n",
       "      <td>5.03</td>\n",
       "      <td>23.5</td>\n",
       "      <td>34.3</td>\n",
       "      <td>Wheat</td>\n",
       "      <td>130.4</td>\n",
       "      <td>8.3</td>\n",
       "      <td>IMG-2001</td>\n",
       "    </tr>\n",
       "    <tr>\n",
       "      <th>2</th>\n",
       "      <td>SEN-1002</td>\n",
       "      <td>2025-01-03</td>\n",
       "      <td>61.24</td>\n",
       "      <td>6.52</td>\n",
       "      <td>21.9</td>\n",
       "      <td>54.6</td>\n",
       "      <td>Tomatoes</td>\n",
       "      <td>36.0</td>\n",
       "      <td>29.4</td>\n",
       "      <td>IMG-2002</td>\n",
       "    </tr>\n",
       "    <tr>\n",
       "      <th>3</th>\n",
       "      <td>SEN-1003</td>\n",
       "      <td>2025-01-04</td>\n",
       "      <td>51.91</td>\n",
       "      <td>6.62</td>\n",
       "      <td>24.0</td>\n",
       "      <td>48.7</td>\n",
       "      <td>Maize</td>\n",
       "      <td>85.8</td>\n",
       "      <td>19.6</td>\n",
       "      <td>IMG-2003</td>\n",
       "    </tr>\n",
       "    <tr>\n",
       "      <th>4</th>\n",
       "      <td>SEN-1004</td>\n",
       "      <td>2025-01-05</td>\n",
       "      <td>20.92</td>\n",
       "      <td>5.98</td>\n",
       "      <td>19.2</td>\n",
       "      <td>70.6</td>\n",
       "      <td>Wheat</td>\n",
       "      <td>75.6</td>\n",
       "      <td>29.9</td>\n",
       "      <td>IMG-2004</td>\n",
       "    </tr>\n",
       "    <tr>\n",
       "      <th>...</th>\n",
       "      <td>...</td>\n",
       "      <td>...</td>\n",
       "      <td>...</td>\n",
       "      <td>...</td>\n",
       "      <td>...</td>\n",
       "      <td>...</td>\n",
       "      <td>...</td>\n",
       "      <td>...</td>\n",
       "      <td>...</td>\n",
       "      <td>...</td>\n",
       "    </tr>\n",
       "    <tr>\n",
       "      <th>796</th>\n",
       "      <td>SEN-1796</td>\n",
       "      <td>2027-03-08</td>\n",
       "      <td>75.25</td>\n",
       "      <td>5.46</td>\n",
       "      <td>20.6</td>\n",
       "      <td>86.5</td>\n",
       "      <td>Beans</td>\n",
       "      <td>133.5</td>\n",
       "      <td>16.1</td>\n",
       "      <td>IMG-2796</td>\n",
       "    </tr>\n",
       "    <tr>\n",
       "      <th>797</th>\n",
       "      <td>SEN-1797</td>\n",
       "      <td>2027-03-09</td>\n",
       "      <td>49.56</td>\n",
       "      <td>4.78</td>\n",
       "      <td>18.4</td>\n",
       "      <td>82.6</td>\n",
       "      <td>Tomatoes</td>\n",
       "      <td>58.0</td>\n",
       "      <td>8.4</td>\n",
       "      <td>IMG-2797</td>\n",
       "    </tr>\n",
       "    <tr>\n",
       "      <th>798</th>\n",
       "      <td>SEN-1798</td>\n",
       "      <td>2027-03-10</td>\n",
       "      <td>58.77</td>\n",
       "      <td>4.80</td>\n",
       "      <td>29.0</td>\n",
       "      <td>36.2</td>\n",
       "      <td>Tomatoes</td>\n",
       "      <td>113.4</td>\n",
       "      <td>26.6</td>\n",
       "      <td>IMG-2798</td>\n",
       "    </tr>\n",
       "    <tr>\n",
       "      <th>799</th>\n",
       "      <td>SEN-1799</td>\n",
       "      <td>2027-03-11</td>\n",
       "      <td>74.57</td>\n",
       "      <td>7.63</td>\n",
       "      <td>28.8</td>\n",
       "      <td>53.6</td>\n",
       "      <td>Maize</td>\n",
       "      <td>105.6</td>\n",
       "      <td>25.4</td>\n",
       "      <td>IMG-2799</td>\n",
       "    </tr>\n",
       "    <tr>\n",
       "      <th>863</th>\n",
       "      <td>SEN-1449</td>\n",
       "      <td>2026-03-26</td>\n",
       "      <td>15.85</td>\n",
       "      <td>6.66</td>\n",
       "      <td>19.4</td>\n",
       "      <td>51.5</td>\n",
       "      <td>Tomatoes</td>\n",
       "      <td>72.2</td>\n",
       "      <td>23.8</td>\n",
       "      <td>IMG-2449</td>\n",
       "    </tr>\n",
       "  </tbody>\n",
       "</table>\n",
       "<p>799 rows × 10 columns</p>\n",
       "</div>"
      ],
      "text/plain": [
       "    Sensor_ID       Date  Soil_Moisture(%)  Soil_pH  Temperature(C)  \\\n",
       "0    SEN-1000 2025-01-01             36.22     6.98            21.3   \n",
       "1    SEN-1001 2025-01-02             76.55     5.03            23.5   \n",
       "2    SEN-1002 2025-01-03             61.24     6.52            21.9   \n",
       "3    SEN-1003 2025-01-04             51.91     6.62            24.0   \n",
       "4    SEN-1004 2025-01-05             20.92     5.98            19.2   \n",
       "..        ...        ...               ...      ...             ...   \n",
       "796  SEN-1796 2027-03-08             75.25     5.46            20.6   \n",
       "797  SEN-1797 2027-03-09             49.56     4.78            18.4   \n",
       "798  SEN-1798 2027-03-10             58.77     4.80            29.0   \n",
       "799  SEN-1799 2027-03-11             74.57     7.63            28.8   \n",
       "863  SEN-1449 2026-03-26             15.85     6.66            19.4   \n",
       "\n",
       "     Humidity(%) Crop_Type  Fertilizer_Recommended(kg/ha)  \\\n",
       "0           50.4  Tomatoes                           67.6   \n",
       "1           34.3     Wheat                          130.4   \n",
       "2           54.6  Tomatoes                           36.0   \n",
       "3           48.7     Maize                           85.8   \n",
       "4           70.6     Wheat                           75.6   \n",
       "..           ...       ...                            ...   \n",
       "796         86.5     Beans                          133.5   \n",
       "797         82.6  Tomatoes                           58.0   \n",
       "798         36.2  Tomatoes                          113.4   \n",
       "799         53.6     Maize                          105.6   \n",
       "863         51.5  Tomatoes                           72.2   \n",
       "\n",
       "     Irrigation_Recommended(mm) Drone_Image_ID  \n",
       "0                          26.6       IMG-2000  \n",
       "1                           8.3       IMG-2001  \n",
       "2                          29.4       IMG-2002  \n",
       "3                          19.6       IMG-2003  \n",
       "4                          29.9       IMG-2004  \n",
       "..                          ...            ...  \n",
       "796                        16.1       IMG-2796  \n",
       "797                         8.4       IMG-2797  \n",
       "798                        26.6       IMG-2798  \n",
       "799                        25.4       IMG-2799  \n",
       "863                        23.8       IMG-2449  \n",
       "\n",
       "[799 rows x 10 columns]"
      ]
     },
     "execution_count": 32,
     "metadata": {},
     "output_type": "execute_result"
    }
   ],
   "source": [
    "cd.head(799)"
   ]
  },
  {
   "cell_type": "code",
   "execution_count": 34,
   "id": "7b1bd8a3",
   "metadata": {},
   "outputs": [
    {
     "data": {
      "text/plain": [
       "Text(0.5, 1.0, 'Soil-PH Distribution')"
      ]
     },
     "execution_count": 34,
     "metadata": {},
     "output_type": "execute_result"
    },
    {
     "data": {
      "image/png": "[encoded data removed]",
      "text/plain": [
       "<Figure size 1500x1000 with 2 Axes>"
      ]
     },
     "metadata": {},
     "output_type": "display_data"
    }
   ],
   "source": [
    "#visualization of numeric variables using histograms\n",
    "plt.figure(figsize=(15,10))\n",
    "plt.subplot(2,2,1)\n",
    "sns.histplot(cd['Soil_Moisture(%)'],bins=30, kde=True)\n",
    "plt.title('Soil Moisture Distribution')\n",
    "#second histogram in same cell of soil moisture\n",
    "plt.subplot(2,2,2)\n",
    "sns.histplot(cd['Soil_pH'],bins=30, kde=True)\n",
    "plt.title('Soil-PH Distribution')"
   ]
  },
  {
   "cell_type": "code",
   "execution_count": 35,
   "id": "f60b26e7",
   "metadata": {},
   "outputs": [
    {
     "data": {
      "text/plain": [
       "Text(0.5, 1.0, 'Humidity Distribution')"
      ]
     },
     "execution_count": 35,
     "metadata": {},
     "output_type": "execute_result"
    },
    {
     "data": {
      "image/png": "[encoded data removed]",
      "text/plain": [
       "<Figure size 1500x1000 with 2 Axes>"
      ]
     },
     "metadata": {},
     "output_type": "display_data"
    }
   ],
   "source": [
    "plt.figure(figsize=(15,10))\n",
    "plt.subplot(2,2,1)\n",
    "sns.histplot(cd['Temperature(C)'],bins=30, kde=True)\n",
    "plt.title('Temperature Distribution')\n",
    "#second histogram in same cell of temp\n",
    "plt.subplot(2,2,2)\n",
    "sns.histplot(cd['Humidity(%)'],bins=30, kde=True)\n",
    "plt.title('Humidity Distribution')"
   ]
  },
  {
   "cell_type": "code",
   "execution_count": 36,
   "id": "50e941ee",
   "metadata": {},
   "outputs": [
    {
     "data": {
      "text/plain": [
       "Text(0.5, 1.0, 'Irrigation Distribution across Crops')"
      ]
     },
     "execution_count": 36,
     "metadata": {},
     "output_type": "execute_result"
    },
    {
     "data": {
      "image/png": "[encoded data removed]",
      "text/plain": [
       "<Figure size 1500x1000 with 2 Axes>"
      ]
     },
     "metadata": {},
     "output_type": "display_data"
    }
   ],
   "source": [
    "plt.figure(figsize=(15,10))\n",
    "plt.subplot(2,2,1)\n",
    "sns.histplot(cd['Fertilizer_Recommended(kg/ha)'],bins=30, kde=True)\n",
    "plt.title('Recommended Fertilizer Distribution')\n",
    "#second histogram in same cell of fertilizer\n",
    "plt.subplot(2,2,2)\n",
    "sns.histplot(cd['Irrigation_Recommended(mm)'],bins=30, kde=True)\n",
    "plt.title('Irrigation Distribution across Crops')"
   ]
  },
  {
   "cell_type": "code",
   "execution_count": 40,
   "id": "814aeffa",
   "metadata": {},
   "outputs": [
    {
     "data": {
      "image/png": "[encoded data removed]",
      "text/plain": [
       "<Figure size 1000x800 with 2 Axes>"
      ]
     },
     "metadata": {},
     "output_type": "display_data"
    }
   ],
   "source": [
    "# Correlation Analysis\n",
    "# Calculate correlations\n",
    "corr_matrix = cd[['Soil_Moisture(%)', 'Soil_pH', 'Temperature(C)', \n",
    "            'Humidity(%)', 'Fertilizer_Recommended(kg/ha)', \n",
    "            'Irrigation_Recommended(mm)']].corr()\n",
    "\n",
    "# Plot correlation heatmap\n",
    "plt.figure(figsize=(10, 8))\n",
    "sns.heatmap(corr_matrix, annot=True, cmap='coolwarm', center=0, fmt='.3f')\n",
    "plt.title('Correlation Matrix')\n",
    "plt.show()"
   ]
  },
  {
   "cell_type": "code",
   "execution_count": null,
   "id": "38695efd",
   "metadata": {},
   "outputs": [
    {
     "name": "stdout",
     "output_type": "stream",
     "text": [
      "Average Soil Moisture by Crop Type:\n",
      "  Crop_Type  Average_Soil_Moisture\n",
      "0     Wheat              47.356449\n",
      "1     Maize              44.953581\n",
      "2     Beans              44.337781\n",
      "3  Tomatoes              44.015719\n",
      "4   Lettuce              42.932100\n",
      "\n",
      "Crop with highest average soil moisture: Wheat (47.36%)\n"
     ]
    },
    {
     "data": {
      "image/png": "[encoded data removed]",
      "text/plain": [
       "<Figure size 1000x600 with 1 Axes>"
      ]
     },
     "metadata": {},
     "output_type": "display_data"
    }
   ],
   "source": [
    "# Calculate average soil moisture by crop type\n",
    "crop_moisture = cd.groupby('Crop_Type')['Soil_Moisture(%)'].mean().sort_values(ascending=False)\n",
    "\n",
    "# Converting to a new DataFrame for better visualization\n",
    "crop_moisture_df = crop_moisture.reset_index()\n",
    "crop_moisture_df.columns = ['Crop_Type', 'Average_Soil_Moisture']\n",
    "\n",
    "# Display the result\n",
    "print(\"Average Soil Moisture by Crop Type:\")\n",
    "print(crop_moisture_df)\n",
    "\n",
    "# Find the crop with highest average moisture\n",
    "highest_moisture_crop = crop_moisture.idxmax()\n",
    "highest_moisture_value = crop_moisture.max()\n",
    "print(f\"\\nCrop with highest average soil moisture: {highest_moisture_crop} ({highest_moisture_value:.2f}%)\")\n",
    "\n",
    "# Visualization using a bar graph\n",
    "plt.figure(figsize=(10, 6))\n",
    "sns.barplot(data=crop_moisture_df, \n",
    "            x='Crop_Type', \n",
    "            y='Average_Soil_Moisture',\n",
    "            hue='Crop_Type',\n",
    "            palette='viridis',\n",
    "            legend=False)\n",
    "\n",
    "plt.title('Average Soil Moisture by Crop Type', fontsize=14)\n",
    "plt.xlabel('Crop Type', fontsize=12)\n",
    "plt.ylabel('Average Soil Moisture (%)', fontsize=12)\n",
    "plt.xticks(rotation=45)\n",
    "plt.tight_layout()\n",
    "plt.show()"
   ]
  },
  {
   "cell_type": "code",
   "execution_count": null,
   "id": "f2a763ee",
   "metadata": {},
   "outputs": [
    {
     "name": "stdout",
     "output_type": "stream",
     "text": [
      "Before filling:\n",
      "449          NaT\n",
      "450   2026-03-27\n",
      "451   2026-03-28\n",
      "Name: Date, dtype: datetime64[ns]\n"
     ]
    }
   ],
   "source": [
    "# Check before filling the empty 449th date record\n",
    "print(\"Before filling:\")\n",
    "print(cd.loc[449:451, 'Date'])  # Shows surrounding rows"
   ]
  },
  {
   "cell_type": "code",
   "execution_count": 50,
   "id": "b8e0739b",
   "metadata": {},
   "outputs": [
    {
     "name": "stdout",
     "output_type": "stream",
     "text": [
      "\n",
      "After filling:\n",
      "449   2026-03-26\n",
      "450   2026-03-27\n",
      "451   2026-03-28\n",
      "Name: Date, dtype: datetime64[ns]\n"
     ]
    }
   ],
   "source": [
    "# Perform the filling\n",
    "cd.loc[449, 'Date'] = pd.to_datetime('2026-03-26')\n",
    "\n",
    "print(\"\\nAfter filling:\")\n",
    "print(cd.loc[449:451, 'Date'])\n"
   ]
  },
  {
   "cell_type": "code",
   "execution_count": 53,
   "id": "f8752c53",
   "metadata": {},
   "outputs": [
    {
     "name": "stdout",
     "output_type": "stream",
     "text": [
      "790   2027-03-02\n",
      "791   2027-03-03\n",
      "792   2027-03-04\n",
      "793   2027-03-05\n",
      "794   2027-03-06\n",
      "795   2027-03-07\n",
      "796   2027-03-08\n",
      "797   2027-03-09\n",
      "798   2027-03-10\n",
      "Name: Date, dtype: datetime64[ns]\n"
     ]
    }
   ],
   "source": [
    "print(cd.loc[790:798, 'Date'])"
   ]
  },
  {
   "cell_type": "code",
   "execution_count": 46,
   "id": "997cdcc4",
   "metadata": {},
   "outputs": [
    {
     "name": "stdout",
     "output_type": "stream",
     "text": [
      "Key Findings:\n",
      "- After analyzing the correlation heatmap,Fertilizer recommendations are mostly influenced by Soil_PH, Humidity and then Soil Moisture.\n",
      "- After analysing a bar graph from the grouped crop type dataframe that relates each crop type to its average soil moisture,the crop type with the highest average soil moisture is Wheat!\n",
      "Suggestions:\n",
      "-Increase the recommended irrigation water used to cater for the quick drying of the added moisture in the soil caused by the high temperatures above 30 degrees \n",
      "-Increase the times the crops are irrigated for instance, if irrigation was carried out once a week, make it twice or thrice a week depending on the growth of the crops in response to the high temperatures.\n",
      "-Get data from the soil moisture sensors to determine which crops have a poor retention of water so as to increase the irrigation frequency for such crops.\n",
      "-Irrigate more in the early morning hours for example 5AM where the water loss in the soil is way less than during the day.\n"
     ]
    }
   ],
   "source": [
    "# Key Findings\n",
    "print(\"Key Findings:\")\n",
    "print(\"- After analyzing the correlation heatmap,Fertilizer recommendations are mostly influenced by Soil_PH, Humidity and then Soil Moisture.\")\n",
    "print(\"- After analysing a bar graph from the grouped crop type dataframe that relates each crop type to its average soil moisture,the crop type with the highest average soil moisture is Wheat!\")\n",
    "#Suggestions\n",
    "print(\"Suggestions:\")   \n",
    "print(\"-Increase the recommended irrigation water used to cater for the quick drying of the added moisture in the soil caused by the high temperatures above 30 degrees \")\n",
    "print('-Increase the times the crops are irrigated for instance, if irrigation was carried out once a week, make it twice or thrice a week depending on the growth of the crops in response to the high temperatures.')\n",
    "print('-Get data from the soil moisture sensors to determine which crops have a poor retention of water so as to increase the irrigation frequency for such crops.')\n",
    "print('-Irrigate more in the early morning hours for example 5AM where the water loss in the soil is way less than during the day.')"
   ]
  },
  {
   "cell_type": "code",
   "execution_count": 54,
   "id": "7c04f604",
   "metadata": {},
   "outputs": [],
   "source": [
    "cd.to_csv(\n",
    "    'cleaned_precision_agriculture_data.csv',\n",
    "    index=False,\n",
    "    encoding='utf-8-sig',  # Better Excel compatibility\n",
    "    date_format='%Y-%m-%d',  # Format dates consistently\n",
    "    float_format='%.2f'  # Round numbers to 2 decimal places\n",
    ")"
   ]
  }
 ],
 "metadata": {
  "kernelspec": {
   "display_name": "Python 3",
   "language": "python",
   "name": "python3"
  },
  "language_info": {
   "codemirror_mode": {
    "name": "ipython",
    "version": 3
   },
   "file_extension": ".py",
   "mimetype": "text/x-python",
   "name": "python",
   "nbconvert_exporter": "python",
   "pygments_lexer": "ipython3",
   "version": "3.13.3"
  }
 },
 "nbformat": 4,
 "nbformat_minor": 5
}
